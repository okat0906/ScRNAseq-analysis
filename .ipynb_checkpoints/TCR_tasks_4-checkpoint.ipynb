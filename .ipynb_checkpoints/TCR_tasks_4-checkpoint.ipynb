{
 "cells": [
  {
   "cell_type": "code",
   "execution_count": null,
   "id": "5160e6da-37e1-4d9e-a519-ee721d163c1c",
   "metadata": {
    "scrolled": true
   },
   "outputs": [],
   "source": [
    "\n",
    "import numpy as np\n",
    "import scanpy as sc\n",
    "import scipy\n",
    "from scipy.sparse import csr_matrix\n",
    "import scanpy.external as sce\n",
    "import pandas as pd\n",
    "import matplotlib.pyplot as plt\n",
    "#from composition_stats import clr\n",
    "import anndata as ad\n",
    "import scirpy as ir\n"
   ]
  },
  {
   "cell_type": "code",
   "execution_count": null,
   "id": "b909248f-2930-43b3-b6f8-2be33975b14c",
   "metadata": {
    "scrolled": true
   },
   "outputs": [],
   "source": [
    "!pip install git+https://github.com/gtca/muon.git"
   ]
  },
  {
   "cell_type": "code",
   "execution_count": null,
   "id": "7f2a5805",
   "metadata": {},
   "outputs": [],
   "source": [
    "import muon as mu"
   ]
  },
  {
   "cell_type": "code",
   "execution_count": null,
   "id": "ed03dfb1-3aca-421c-97f7-d8877b56f43e",
   "metadata": {},
   "outputs": [],
   "source": [
    "help(ir)"
   ]
  },
  {
   "cell_type": "code",
   "execution_count": null,
   "id": "9c47c4d9-0208-408e-a352-db09dc989b9b",
   "metadata": {},
   "outputs": [],
   "source": [
    "!ls"
   ]
  },
  {
   "cell_type": "code",
   "execution_count": null,
   "id": "f0467ab8",
   "metadata": {},
   "outputs": [],
   "source": [
    "# load in everything, perform batch correction with harmony and the normal qc from scirpy\n",
    "\n",
    "file_list = [\n",
    "     ir.io.read_10x_vdj(r\"C:\\Users\\okatk\\OneDrive - Tredyffrin Easttown School District\\Drexel Research\\filtered_contig_annotations_lib_1.csv\"), \n",
    "     ir.io.read_10x_vdj(r\"C:\\Users\\okatk\\OneDrive - Tredyffrin Easttown School District\\Drexel Research\\filtered_contig_annotations_lib_2.csv\"), \n",
    "     ir.io.read_10x_vdj(r\"C:\\Users\\okatk\\OneDrive - Tredyffrin Easttown School District\\Drexel Research\\filtered_contig_annotations_lib_3.csv\")\n",
    "]\n",
    "# 14206, 15031, 14752\n",
    "\n",
    "#labels = 14206*[\"lib1\"] +  15031* [\"lib2\"]+ 14752*[\"lib3\"]\n",
    "new_l = []\n",
    "for index in range(len(file_list)):\n",
    "    adata = file_list[index]\n",
    "    adata.obs[\"batch\"] = \"lib_\" + str(index)\n",
    "    new_l.append(adata)\n",
    "    \n"
   ]
  },
  {
   "cell_type": "code",
   "execution_count": null,
   "id": "cc2ab4b0-3983-4ab9-b472-9b7d4678cdae",
   "metadata": {},
   "outputs": [],
   "source": [
    "tcr_concat = ad.concat(new_l, merge=\"same\")\n",
    "# add batch labels\n",
    "tcr_concat.obs_names_make_unique()\n",
    "# now TCR qc\n",
    "ir.pp.index_chains(tcr_concat) # only needs airr\n",
    "ir.tl.chain_qc(tcr_concat) # only needs airr\n",
    "\n",
    "print(tcr_concat.obs.receptor_subtype)\n",
    "#raise Error\n",
    "# further tcr qc\n",
    "mu.pp.filter_obs(tcr_concat, \"chain_pairing\", lambda x: x != \"multichain\")\n",
    "mu.pp.filter_obs(tcr_concat, \"chain_pairing\", lambda x: ~np.isin(x, [\"orphan VDJ\", \"orphan VJ\"]))\n",
    "# it would appear that batch correction is ill-posed here.\n",
    "# basic dim reduction for each modality\n",
    "# sc.pp.pca(tcr_concat)\n",
    "# # batch correction\n",
    "# sce.pp.harmony_integrate(tcr_concat, 'batch') \n",
    "# then save it in same manner as other modalities\n",
    "tcr_concat.write_h5ad(r\"C:\\Users\\okatk\\OneDrive - Tredyffrin Easttown School District\\Drexel Research\\correct_tcr.h5ad\")"
   ]
  },
  {
   "cell_type": "code",
   "execution_count": null,
   "id": "d441a270-8b70-495b-9b63-27f403baa13d",
   "metadata": {},
   "outputs": [],
   "source": [
    "print(tcr_concat.obs.receptor_subtype.unique())"
   ]
  },
  {
   "cell_type": "code",
   "execution_count": null,
   "id": "4eee89c4",
   "metadata": {},
   "outputs": [],
   "source": [
    "help(ir)\n"
   ]
  },
  {
   "cell_type": "code",
   "execution_count": null,
   "id": "b22f6833",
   "metadata": {},
   "outputs": [],
   "source": [
    "# load in files \n",
    "file_list = [\n",
    "    sc.read_h5ad(r\"C:\\Users\\okatk\\OneDrive - Tredyffrin Easttown School District\\Drexel Research\\correct_rna.h5ad\"),\n",
    "    sc.read_h5ad(r\"C:\\Users\\okatk\\OneDrive - Tredyffrin Easttown School District\\Drexel Research\\correct_tcr.h5ad\"),\n",
    "    sc.read_h5ad(r\"C:\\Users\\okatk\\OneDrive - Tredyffrin Easttown School District\\Drexel Research\\correct_protein.h5ad\")\n",
    "]\n",
    "for adata in file_list:\n",
    "    try:\n",
    "        adata.uns['log1p'][\"base\"] = None \n",
    "    except:\n",
    "        pass\n",
    "# fill out the mudata object\n",
    "mdata = mu.MuData({\"gex\": file_list[0],  \n",
    "                   \"airr\": file_list[1],\n",
    "                   \"prot\": file_list[2]})\n",
    "\n",
    "mdata[\"gex\"], mdata[\"airr\"], mdata[\"prot\"]"
   ]
  },
  {
   "cell_type": "code",
   "execution_count": null,
   "id": "df0eb423",
   "metadata": {},
   "outputs": [],
   "source": [
    "mdata[\"airr\"].obs.receptor_subtype"
   ]
  },
  {
   "cell_type": "code",
   "execution_count": null,
   "id": "99bf483d",
   "metadata": {},
   "outputs": [],
   "source": [
    "airr_cell_ids = set(mdata[\"airr\"].obs.index)\n",
    "gex_cell_ids = set(mdata[\"gex\"].obs.index)\n",
    "prot_cell_ids = set(mdata[\"prot\"].obs.index)"
   ]
  },
  {
   "cell_type": "code",
   "execution_count": null,
   "id": "5bfcaf55",
   "metadata": {},
   "outputs": [],
   "source": [
    "len(airr_cell_ids)"
   ]
  },
  {
   "cell_type": "code",
   "execution_count": null,
   "id": "482277b3",
   "metadata": {},
   "outputs": [],
   "source": [
    "len(gex_cell_ids)"
   ]
  },
  {
   "cell_type": "code",
   "execution_count": null,
   "id": "3be46941",
   "metadata": {},
   "outputs": [],
   "source": [
    "prot_cell_ids"
   ]
  },
  {
   "cell_type": "code",
   "execution_count": null,
   "id": "5d2e9302",
   "metadata": {},
   "outputs": [],
   "source": [
    "len(airr_cell_ids), len(gex_cell_ids), len(prot_cell_ids)"
   ]
  },
  {
   "cell_type": "code",
   "execution_count": null,
   "id": "924157ed",
   "metadata": {},
   "outputs": [],
   "source": [
    "# check if there are cell barcodes that exist in airr and not in gex\n",
    "#len(airr_cell_ids - gex_cell_ids), len(prot_cell_ids - gex_cell_ids), len(prot_cell_ids - airr_cell_ids), len(airr_cell_ids - prot_cell_ids)\n",
    "# check if there are cell barcodes that exist in prot and not in gex\n",
    "len(gex_cell_ids - airr_cell_ids)\n",
    "# check if there are cell barcodes that exist in prot and not in airr"
   ]
  },
  {
   "cell_type": "code",
   "execution_count": null,
   "id": "38e7fc85",
   "metadata": {},
   "outputs": [],
   "source": []
  },
  {
   "cell_type": "code",
   "execution_count": null,
   "id": "f0a616fe",
   "metadata": {
    "scrolled": true
   },
   "outputs": [],
   "source": [
    "# define clonotypes\n",
    "# using default parameters, `ir_dist` will compute nucleotide sequence identity\n",
    "\n",
    "\n",
    "ir.pp.ir_dist(mdata)\n",
    "ir.tl.define_clonotypes(mdata, receptor_arms=\"all\", dual_ir=\"primary_only\")\n",
    "ir.tl.clonotype_network(mdata, min_cells=30) #50, 100 is good\n",
    "# we don't have source, just use sample labels here\n",
    "ir.pl.clonotype_network( # color='Thaw'\n",
    "    mdata,color='gex:Thaw') #, base_size=20, label_fontsize=9, panel_size=(7, 7)\n",
    "\n",
    "print(mdata.obs.columns)\n"
   ]
  },
  {
   "cell_type": "code",
   "execution_count": null,
   "id": "9014e019-ff86-4a17-ae85-c7595d04d992",
   "metadata": {},
   "outputs": [],
   "source": [
    "# Calculate the predominant donor for each clonotype\n",
    "def get_predominant_donor(x):\n",
    "    try:\n",
    "        return x.value_counts().index[0]\n",
    "    except IndexError:\n",
    "        return None\n",
    "\n",
    "predominant_donor = mdata.obs.groupby('airr:clone_id')['donor'].agg(get_predominant_donor)\n",
    "\n",
    "# Map the predominant donor to each cell\n",
    "mdata.obs['predominant_donor'] = mdata.obs['airr:clone_id'].map(predominant_donor)\n",
    "\n",
    "# Get the unique donors\n",
    "donors = mdata.obs['predominant_donor'].unique()\n",
    "\n",
    "# Generate separate plots for each donor\n",
    "for donor in donors:\n",
    "    if donor is not None:  # Skip None\n",
    "        subset = mdata[mdata.obs['predominant_donor'] == donor]\n",
    "        if subset.obs.shape[0] > 0:  # Check that the subset has cells\n",
    "            ir.pl.clonotype_network(\n",
    "                subset, \n",
    "                color='gex:Thaw'  # Use the correct color attribute if you want to color the network differently\n",
    "            )\n"
   ]
  },
  {
   "cell_type": "code",
   "execution_count": null,
   "id": "846184d9-d867-439f-bbbb-98c6c0f9fd5b",
   "metadata": {},
   "outputs": [],
   "source": [
    "print(mdata.obs.columns)"
   ]
  },
  {
   "cell_type": "code",
   "execution_count": null,
   "id": "0b19cb83",
   "metadata": {},
   "outputs": [],
   "source": [
    "# we don't have source, just use sample labels here\n",
    "ir.pl.clonotype_network( # color='Thaw'\n",
    "    mdata,color='gex:Sample') #, base_size=20, label_fontsize=9, panel_size=(7, 7)\n",
    "#)"
   ]
  },
  {
   "cell_type": "code",
   "execution_count": null,
   "id": "1c837d66",
   "metadata": {},
   "outputs": [],
   "source": [
    "# we don't have source, just use sample labels here\n",
    "ir.pl.clonotype_network( # color='Thaw'\n",
    "    mdata,color='gex:Time') #, base_size=20, label_fontsize=9, panel_size=(7, 7)\n",
    "#)"
   ]
  },
  {
   "cell_type": "code",
   "execution_count": null,
   "id": "028ec40f",
   "metadata": {},
   "outputs": [],
   "source": [
    "# re-compute the clonotype network based on amino-acid sequence similarity and \n",
    "# define clonotype clusters.\n",
    "ir.pp.ir_dist(\n",
    "    mdata,\n",
    "    metric=\"alignment\",\n",
    "    sequence=\"aa\", # tried 15, 25, 10, was garbage\n",
    "    cutoff=10,# was 15, I would try 10 next -- definitely faster with the smaller number\n",
    ")\n",
    "ir.tl.define_clonotype_clusters(\n",
    "    mdata, sequence=\"aa\", metric=\"alignment\", receptor_arms=\"all\", dual_ir= \"primary_only\" #\"any\"\n",
    ")\n"
   ]
  },
  {
   "cell_type": "code",
   "execution_count": null,
   "id": "0e81c17e",
   "metadata": {},
   "outputs": [],
   "source": [
    "ir.tl.clonotype_network(mdata, min_cells=40, sequence=\"aa\", metric=\"alignment\")\n",
    "ir.pl.clonotype_network(\n",
    "    mdata, color=\"gex:Thaw\", label_fontsize=9, panel_size=(7, 7), base_size=20\n",
    ")\n",
    "# again color by your labels, not theirs"
   ]
  },
  {
   "cell_type": "code",
   "execution_count": null,
   "id": "b11e9ef6",
   "metadata": {},
   "outputs": [],
   "source": [
    "ir.tl.clonotype_network(mdata, min_cells=33, sequence=\"aa\", metric=\"alignment\")\n",
    "ir.pl.clonotype_network(\n",
    "    mdata, color=\"gex:Sample\", label_fontsize=9, panel_size=(7, 7), base_size=20\n",
    ")"
   ]
  },
  {
   "cell_type": "code",
   "execution_count": null,
   "id": "1956b957",
   "metadata": {},
   "outputs": [],
   "source": [
    "ir.tl.clonotype_network(mdata, min_cells=33, sequence=\"aa\", metric=\"alignment\")\n",
    "ir.pl.clonotype_network(\n",
    "    mdata, color=\"gex:Time\", label_fontsize=9, panel_size=(7, 7), base_size=20\n",
    ")"
   ]
  },
  {
   "cell_type": "code",
   "execution_count": null,
   "id": "7e25e305",
   "metadata": {},
   "outputs": [],
   "source": [
    "mdata[\"airr\"].obsm['airr']"
   ]
  },
  {
   "cell_type": "code",
   "execution_count": null,
   "id": "6c96249b",
   "metadata": {},
   "outputs": [],
   "source": [
    "mdata[\"airr\"].obsm['chain_indices']"
   ]
  },
  {
   "cell_type": "code",
   "execution_count": null,
   "id": "15660c6d",
   "metadata": {},
   "outputs": [],
   "source": [
    "# task 1 \n",
    "# this is a little more complicated due to the nature of the data itself (these are not even scalars!)\n",
    "\n",
    "# wants sample by TCR airr heatmap as one graph, \n",
    "# with hierarchical clustering on the opposing axises and colored by differential expression\n",
    "sc.tl.rank_genes_groups(mdata[\"gex\"], groupby='Thaw', method='wilcoxon')#, key_added = \"wilcoxon\")\n",
    "#sc.pl.rank_genes_groups(mdata[\"gex\"], n_genes=10, groupby='cluster')\n",
    "#sc.pl.rank_genes_groups_matrixplot(adata, n_genes=5, key=\"thaw\", groupby=\"louvain_0.6\") \n",
    "# you can use this to give you mean expression in groups\n",
    "sc.pl.rank_genes_groups_heatmap(mdata[\"gex\"], \n",
    "                                n_genes=10, groupby='Thaw', show_gene_labels=True,) # save=\"heatmap.png\")"
   ]
  },
  {
   "cell_type": "code",
   "execution_count": null,
   "id": "3424ca3a",
   "metadata": {},
   "outputs": [],
   "source": [
    "# create some mask on gex data to only have tcr receptor expression\n",
    "\n",
    "mdata[\"gex\"].var.gene_ids\n"
   ]
  },
  {
   "cell_type": "code",
   "execution_count": null,
   "id": "c0354531",
   "metadata": {},
   "outputs": [],
   "source": [
    "mdata[\"gex\"].obs.Thaw "
   ]
  },
  {
   "cell_type": "code",
   "execution_count": null,
   "id": "7926f412",
   "metadata": {},
   "outputs": [],
   "source": [
    "len(mdata[\"gex\"].obs[mdata[\"gex\"].obs.Thaw == \"Z-A3-1st\"].index)"
   ]
  },
  {
   "cell_type": "code",
   "execution_count": null,
   "id": "eb1db544",
   "metadata": {},
   "outputs": [],
   "source": [
    "mdata[\"prot\"].var.gene_ids"
   ]
  },
  {
   "cell_type": "code",
   "execution_count": null,
   "id": "38aa6a7d",
   "metadata": {},
   "outputs": [],
   "source": [
    "\"ADT_C0090\" in list(mdata[\"prot\"].var.gene_ids)\n",
    "#just do the second paper's qc and redo all the protein + gex stuff\n",
    "# MouseIgG1, MouseIgG2a, MouseIgG2b, RatIgG2b, RatIgG1, RatIgG2a, and HamsterIgG\n",
    "# C0090, C0091, C0092, C0095\n",
    "# match these to ADT tags based on the file Xiao gave you"
   ]
  },
  {
   "cell_type": "code",
   "execution_count": null,
   "id": "33385980",
   "metadata": {},
   "outputs": [],
   "source": [
    "sc.tl.umap(mdata[\"prot\"])\n",
    "sc.pl.umap(mdata[\"prot\"], color='Thaw',) # save=\"UMAP.png\")"
   ]
  },
  {
   "cell_type": "code",
   "execution_count": null,
   "id": "00be8ab6-374e-4868-b629-581b028f2bd4",
   "metadata": {},
   "outputs": [],
   "source": [
    "mdata[\"gex\"]"
   ]
  },
  {
   "cell_type": "code",
   "execution_count": null,
   "id": "a3cb458a",
   "metadata": {},
   "outputs": [],
   "source": [
    "sc.tl.umap(mdata[\"gex\"])\n",
    "sc.pl.umap(mdata[\"gex\"], color='Thaw',)"
   ]
  },
  {
   "cell_type": "code",
   "execution_count": null,
   "id": "e70afbc1",
   "metadata": {},
   "outputs": [],
   "source": [
    "mdata[\"gex\"]"
   ]
  },
  {
   "cell_type": "code",
   "execution_count": null,
   "id": "cd83572a",
   "metadata": {},
   "outputs": [],
   "source": [
    "# clonal expansion -- do all this for each sample (do one for all samples, then do by donor)\n",
    "ir.tl.clonal_expansion(mdata)\n",
    "mu.pl.embedding(\n",
    "    mdata, basis=\"gex:umap\", color=[\"airr:clonal_expansion\", \"airr:clone_id_size\"]\n",
    ")\n",
    "# need to have the rna data umap computed\n",
    "# again change the groupby to use your sample labels\n",
    "ir.pl.clonal_expansion( # groupby=\"gex:cluster\"\n",
    "    mdata, target_col=\"clone_id\" , clip_at=20, normalize=False, groupby=\"gex:Thaw\"\n",
    ")\n",
    "ir.pl.clonal_expansion(mdata, target_col=\"clone_id\",clip_at=20, groupby=\"gex:Thaw\")"
   ]
  },
  {
   "cell_type": "code",
   "execution_count": null,
   "id": "6585f6fc",
   "metadata": {},
   "outputs": [],
   "source": [
    "# task 2\n",
    "# we must be missing a thaw label\n",
    "\n",
    "# UMAP from protein data, where the clusters are colored by sample name\n",
    "# create a new column called Sample that applies the predefined sample map\n",
    "thaw_to_donor = {\n",
    "    'Z-A3-Unsti' : \"Z\",\n",
    "    'Z-A3-1st' : \"Z\", \n",
    "    'Z-A3-5th' : \"Z\",  \n",
    "    'Z-A3-9th' : \"Z\",    \n",
    "    \"M-A3-Unsti\" : \"M\",  \n",
    "    \"M-A3-3rd\" : \"M\",\n",
    "    \"M-A3-6th\": \"M\",\n",
    "    \"M-A3-9th\" : \"M\",\n",
    "    \"U-A3-Unsti\" : \"U\",\n",
    "    \"U-A3-4th\" : \"U\",\n",
    "    \"U-A3-7th\": \"U\",\n",
    "    \"U-A3-10th\": \"U\"\n",
    "}\n",
    "# U-A3-Unsti is not getting picked up here\n",
    "\n",
    "# [print(i)for i in mdata[\"prot\"].obs['Thaw'].unique()]\n",
    "# raise Error\n",
    "mdata[\"prot\"].obs[\"Sample\"] = mdata[\"prot\"].obs['Thaw'].map(thaw_to_donor)\n",
    "mdata[\"gex\"].obs[\"Sample\"] = mdata[\"gex\"].obs['Thaw'].map(thaw_to_donor)\n",
    "\n",
    "Z, M, U = mdata[\"gex\"][mdata[\"gex\"].obs.Sample == \"Z\"], mdata[\"gex\"][mdata[\"gex\"].obs.Sample == \"M\"], mdata[\"gex\"][mdata[\"gex\"].obs.Sample == \"U\"]\n",
    "sc.tl.umap(Z)\n",
    "sc.pl.umap(Z, color='Thaw',) # save=\"UMAP.png\")\n",
    "sc.tl.umap(M)\n",
    "sc.pl.umap(M, color='Thaw',) # save=\"UMAP.png\")\n",
    "sc.tl.umap(U)\n",
    "sc.pl.umap(U, color='Thaw',) # save=\"UMAP.png\")"
   ]
  },
  {
   "cell_type": "code",
   "execution_count": null,
   "id": "5605bbb7-9332-429f-aad5-2d0a44d74e53",
   "metadata": {},
   "outputs": [],
   "source": [
    "# keep all GEX, but restrict label set to each donor\n",
    "thaw_to_donor = {\n",
    "    'Z-A3-Unsti' : \"Z-A3-Unsti\",\n",
    "    'Z-A3-1st' : \"Z-A3-1st\", \n",
    "    'Z-A3-5th' : \"Z-A3-5th\",  \n",
    "    'Z-A3-9th' : \"Z-A3-9th\",    \n",
    "    \"M-A3-Unsti\" : \"NA\",  \n",
    "    \"M-A3-3rd\" : \"NA\",\n",
    "    \"M-A3-6th\": \"NA\",\n",
    "    \"M-A3-9th\" : \"NA\",\n",
    "    \"U-A3-Unsti\" : \"NA\",\n",
    "    \"U-A3-4th\" : \"NA\",\n",
    "    \"U-A3-7th\": \"NA\",\n",
    "    \"U-A3-10th\": \"NA\"\n",
    "}\n",
    "\n",
    "mdata[\"gex\"].obs[\"Z_only\"] = mdata[\"gex\"].obs['Thaw'].map(thaw_to_donor)\n",
    "sc.tl.umap(mdata[\"gex\"])\n",
    "sc.pl.umap(mdata[\"gex\"], color='Z_only', alpha=0.5, palette={'Z-A3-Unsti':'tab:cyan',\n",
    "                                                      'Z-A3-1st':'tab:olive',\n",
    "                                                      'Z-A3-5th':'tab:red',\n",
    "                                                      \"Z-A3-9th\":\"tab:purple\",      \n",
    "                                                      'NA':'whitesmoke'})"
   ]
  },
  {
   "cell_type": "code",
   "execution_count": null,
   "id": "2abe8e60-0246-4ed0-9039-aa1ee71ef499",
   "metadata": {},
   "outputs": [],
   "source": [
    "thaw_to_donor = {\n",
    "    'Z-A3-Unsti' : \"NA\",\n",
    "    'Z-A3-1st' : \"NA\", \n",
    "    'Z-A3-5th' : \"NA\",  \n",
    "    'Z-A3-9th' : \"NA\",    \n",
    "    \"M-A3-Unsti\" : \"M-A3-Unsti\",  \n",
    "    \"M-A3-3rd\" : \"M-A3-3rd\",\n",
    "    \"M-A3-6th\": \"M-A3-6th\",\n",
    "    \"M-A3-9th\" : \"M-A3-9th\",\n",
    "    \"U-A3-Unsti\" : \"NA\",\n",
    "    \"U-A3-4th\" : \"NA\",\n",
    "    \"U-A3-7th\": \"NA\",\n",
    "    \"U-A3-10th\": \"NA\"\n",
    "}\n",
    "mdata[\"gex\"].obs[\"M_only\"] = mdata[\"gex\"].obs['Thaw'].map(thaw_to_donor)\n",
    "sc.tl.umap(mdata[\"gex\"])\n",
    "sc.pl.umap(mdata[\"gex\"], color='M_only', alpha=0.5, palette={'M-A3-Unsti':'tab:cyan',\n",
    "                                                      'M-A3-3rd':'tab:olive',\n",
    "                                                      \"M-A3-6th\":'tab:red',   \n",
    "                                                      'M-A3-9th':'tab:purple',\n",
    "                                                      'NA':'whitesmoke'})"
   ]
  },
  {
   "cell_type": "code",
   "execution_count": null,
   "id": "07fcf055-b52d-4e13-8f56-5ebc75f522d7",
   "metadata": {},
   "outputs": [],
   "source": [
    "thaw_to_donor = {\n",
    "    'Z-A3-Unsti' : \"NA\",\n",
    "    'Z-A3-1st' : \"NA\", \n",
    "    'Z-A3-5th' : \"NA\",  \n",
    "    'Z-A3-9th' : \"NA\",    \n",
    "    \"M-A3-Unsti\" : \"NA\",  \n",
    "    \"M-A3-3rd\" : \"NA\",\n",
    "    \"M-A3-6th\": \"NA\",\n",
    "    \"M-A3-9th\" : \"NA\",\n",
    "    \"U-A3-Unsti\" : \"U-A3-Unsti\",\n",
    "    \"U-A3-4th\" : \"U-A3-4th\",\n",
    "    \"U-A3-7th\": \"U-A3-7th\",\n",
    "    \"U-A3-10th\": \"U-A3-10th\"\n",
    "}\n",
    "mdata[\"gex\"].obs[\"U_only\"] = mdata[\"gex\"].obs['Thaw'].map(thaw_to_donor)\n",
    "sc.tl.umap(mdata[\"gex\"])\n",
    "sc.pl.umap(mdata[\"gex\"], color='U_only', alpha=0.5, palette={'U-A3-Unsti':'tab:cyan',\n",
    "                                                      'U-A3-4th':'tab:olive',\n",
    "                                                      'U-A3-7th':'tab:red',\n",
    "                                                      'U-A3-10th':'tab:purple',\n",
    "                                                      'NA':'whitesmoke'})"
   ]
  },
  {
   "cell_type": "code",
   "execution_count": null,
   "id": "0ccf8eac-b426-405e-b73a-7e5693265ee6",
   "metadata": {},
   "outputs": [],
   "source": [
    "# keep all GEX, but restrict label set to each unstim\n",
    "thaw_to_donor = {\n",
    "    'Z-A3-Unsti' : \"Z-A3-Unsti\",\n",
    "    'Z-A3-1st' : \"NA\", \n",
    "    'Z-A3-5th' : \"NA\",  \n",
    "    'Z-A3-9th' : \"NA\",    \n",
    "    \"M-A3-Unsti\" : \"M-A3-Unsti\",  \n",
    "    \"M-A3-3rd\" : \"NA\",\n",
    "    \"M-A3-6th\": \"NA\",\n",
    "    \"M-A3-9th\" : \"NA\",\n",
    "    \"U-A3-Unsti\" : \"U-A3-Unsti\",\n",
    "    \"U-A3-4th\" : \"NA\",\n",
    "    \"U-A3-7th\": \"NA\",\n",
    "    \"U-A3-10th\": \"NA\"\n",
    "}\n",
    "\n",
    "mdata[\"gex\"].obs[\"unstim_only\"] = mdata[\"gex\"].obs['Thaw'].map(thaw_to_donor)\n",
    "sc.tl.umap(mdata[\"gex\"])\n",
    "sc.pl.umap(mdata[\"gex\"], color='unstim_only', alpha=0.5, palette={'M-A3-Unsti':'tab:cyan',\n",
    "                                                      'Z-A3-Unsti':'tab:olive',\n",
    "                                                      'U-A3-Unsti':'tab:red',\n",
    "                                                      'NA':'whitesmoke'})"
   ]
  },
  {
   "cell_type": "code",
   "execution_count": null,
   "id": "e3d1523e",
   "metadata": {},
   "outputs": [],
   "source": [
    "# task 3\n",
    "# 3 UMAPs (one for each donor), non-TCR-repertoire RNA, color by different time points\n",
    "# create a new column called Sample that applies the predefined sample map\n",
    "thaw_to_time = {\n",
    "    \n",
    "    'Z-A3-Unsti' : 0,\n",
    "    'Z-A3-1st' : 1, \n",
    "    'Z-A3-5th' : 5,  \n",
    "    'Z-A3-9th' : 9,    \n",
    "    \"M-A3-Unsti\" : 0,  \n",
    "    \"M-A3-3rd\" : 3,\n",
    "    \"M-A3-6th\": 6,\n",
    "    \"M-A3-9th\" : 9,\n",
    "    \"U-A3-Unsti\" : 0,\n",
    "    \"U-A3-4th\" : 4,\n",
    "    \"U-A3-7th\": 7,\n",
    "    \"U-A3-10th\": 10\n",
    "}\n",
    "mdata[\"gex\"].obs[\"Time\"] = mdata[\"gex\"].obs['Thaw'].map(thaw_to_time)\n",
    "sc.tl.umap(mdata[\"gex\"])\n",
    "sc.pl.umap(mdata[\"gex\"], color='Time' )#, save=\"UMAP.png\")"
   ]
  },
  {
   "cell_type": "code",
   "execution_count": null,
   "id": "f54ae38c",
   "metadata": {},
   "outputs": [],
   "source": [
    "mdata.update()\n",
    "mdata[\"gex\"]"
   ]
  },
  {
   "cell_type": "code",
   "execution_count": null,
   "id": "b6a970a0-bb7f-4c04-9589-85a0cdc6e746",
   "metadata": {},
   "outputs": [],
   "source": [
    "mdata[\"airr\"].obs.batch.index.intersection(mdata[\"airr\"].obs.Thaw.index)"
   ]
  },
  {
   "cell_type": "code",
   "execution_count": null,
   "id": "ae9585e2-71a8-4592-90a9-d73ac0e99575",
   "metadata": {},
   "outputs": [],
   "source": [
    "# remove all barcodes \n",
    "#mdata[\"airr\"].obs[\"Thaw\"] =  #.obs.Thaw\n",
    "\n",
    "# Create a DataFrame from the first column\n",
    "first_df = pd.DataFrame(mdata[\"gex\"].obs[\"Thaw\"], dtype=object) #mdata[\"gex\"].obs[\"Thaw\"]\n",
    "\n",
    "# Create a DataFrame from the second column\n",
    "second_df = pd.DataFrame(mdata[\"airr\"].obs.clonal_expansion ) # mdata[\"airr\"].obs.clonal_expansion\n",
    "\n",
    "# Perform a left join to align the indices and fill missing values with 'N/A'\n",
    "aligned_df = first_df.join(second_df, how='right').fillna('N/A')\n",
    "print(aligned_df)\n",
    "\n",
    "# Update the 'second_column' in the AnnData object\n",
    "mdata[\"airr\"].obs[\"Thaw\"] = aligned_df['Thaw']\n",
    "\n",
    "# \n",
    "#mdata[\"airr\"].obs.Thaw, mdata[\"airr\"].obs.clonal_expansion\n",
    "# Perform a left join to align the indices and fill missing values with 'N/A'\n",
    "# mdata[\"airr\"].obs[\"Thaw\"] = mdata[\"gex\"].obs[\"Thaw\"].join(mdata[\"airr\"].obs.clonal_expansion,\n",
    "#                                                           how='left', rsuffix='_second').fillna('N/A')\n",
    "\n",
    "# Update the 'second_column' in the AnnData object\n",
    "#adata.obs['second_column'] = aligned_df['second_column_second']\n",
    "mdata[\"airr\"].obs[\"Thaw\"]"
   ]
  },
  {
   "cell_type": "code",
   "execution_count": null,
   "id": "a84bcd24-175d-4afd-8b03-55d98038416e",
   "metadata": {},
   "outputs": [],
   "source": [
    "mdata[\"airr\"].obs[\"Thaw\"]"
   ]
  },
  {
   "cell_type": "code",
   "execution_count": null,
   "id": "730f1422-d8ab-411b-abf0-da58fcdc3e65",
   "metadata": {},
   "outputs": [],
   "source": [
    "mdata[\"airr\"][mdata[\"airr\"].obs[\"Thaw\"] == thaw_name]"
   ]
  },
  {
   "cell_type": "code",
   "execution_count": null,
   "id": "94c3e3f7",
   "metadata": {},
   "outputs": [],
   "source": [
    "# clonal expansion -- do all this for each sample (do one for all samples, then do by donor)\n",
    "for thaw_name in mdata[\"gex\"].obs.Thaw.unique():\n",
    "    # so now we want to apply the thaw labels to the airr and subset on that\n",
    "    \n",
    "    mdata_subset = mu.MuData({\"gex\": mdata[\"gex\"][mdata[\"gex\"].obs.Thaw == thaw_name],  \n",
    "                   \"airr\": mdata[\"airr\"][mdata[\"airr\"].obs[\"Thaw\"] == thaw_name],\n",
    "                   \"prot\": mdata[\"prot\"][mdata[\"prot\"].obs.Thaw == thaw_name]})\n",
    "    \n",
    "    \n",
    "    #print(mdata_subset[\"airr\"])\n",
    "    # using default parameters, `ir_dist` will compute nucleotide sequence identity\n",
    "    # compute the  clonotypes on the subset but plot the rest                         \n",
    "    ir.pp.ir_dist(mdata_subset)\n",
    "    ir.tl.define_clonotypes(mdata_subset, receptor_arms=\"all\", dual_ir=\"primary_only\")\n",
    "    #ir.tl.clonotype_network(mdata_subset, min_cells=30)\n",
    "    ir.tl.clonal_expansion(mdata_subset)\n",
    "    #print(mdata_subset[\"airr\"].obs)#[\"clonal_expansion\"])\n",
    "    ce_name = thaw_name +\"_clonal_expansion\"\n",
    "    ci_name = thaw_name + \"_clone_id_size\"\n",
    "    mdata[\"airr\"].obs[ce_name] = mdata_subset[\"airr\"].obs[\"clonal_expansion\"]\n",
    "    mdata[\"airr\"].obs[ci_name] = mdata_subset[\"airr\"].obs[\"clone_id_size\"]\n",
    "#     temp_mdata = mu.MuData({\"gex\": file_list[0],  \n",
    "#                    \"airr\": file_list[1],\n",
    "#                    \"prot\": file_list[2]})\n",
    "    mdata.update() # this shouldn't do anything\n",
    "    print(thaw_name)\n",
    "    mu.pl.embedding(\n",
    "        mdata, basis=\"gex:umap\", color=[\"airr:\"+ce_name, \"airr:\"+ci_name]\n",
    "    )\n",
    "    # need to have the rna data umap computed\n",
    "    # again change the groupby to use your sample labels\n",
    "    #ir.pl.clonal_expansion( # groupby=\"gex:cluster\"\n",
    "    #    mdata_subset, target_col=\"clone_id\" , clip_at=10, normalize=False, groupby=\"gex:Sample\"\n",
    "    #)\n",
    "    #ir.pl.clonal_expansion(mdata_subset, target_col=\"clone_id\", clip_at=10, groupby=\"gex:Sample\")"
   ]
  },
  {
   "cell_type": "code",
   "execution_count": null,
   "id": "ff359d3b-a362-4882-a2cc-66f20d381500",
   "metadata": {},
   "outputs": [],
   "source": []
  },
  {
   "cell_type": "code",
   "execution_count": null,
   "id": "76bd3b3b",
   "metadata": {},
   "outputs": [],
   "source": [
    "# clonal expansion -- do all this for each sample (do one for all samples, then do by donor)\n",
    "ir.tl.clonal_expansion(mdata)\n",
    "mu.pl.embedding(\n",
    "    mdata, basis=\"gex:umap\", color=[\"airr:clonal_expansion\", \"airr:clone_id_size\"]\n",
    ")\n",
    "# need to have the rna data umap computed\n",
    "# again change the groupby to use your sample labels\n",
    "ir.pl.clonal_expansion( # groupby=\"gex:cluster\"\n",
    "    mdata, target_col=\"clone_id\" , clip_at=10, normalize=False, groupby=\"gex:Time\"\n",
    ")\n",
    "ir.pl.clonal_expansion(mdata, target_col=\"clone_id\", clip_at=10, groupby=\"gex:Time\")"
   ]
  },
  {
   "cell_type": "code",
   "execution_count": null,
   "id": "e4292868",
   "metadata": {},
   "outputs": [],
   "source": [
    "# now let's examine the tcr data more\n",
    "mdata[\"airr\"].obs.receptor_type"
   ]
  },
  {
   "cell_type": "code",
   "execution_count": null,
   "id": "3ab8a9fa",
   "metadata": {},
   "outputs": [],
   "source": [
    "mdata[\"airr\"].obs.receptor_subtype"
   ]
  },
  {
   "cell_type": "code",
   "execution_count": null,
   "id": "36a00608",
   "metadata": {},
   "outputs": [],
   "source": [
    "mdata[\"airr\"].obs.chain_pairing"
   ]
  }
 ],
 "metadata": {
  "kernelspec": {
   "display_name": "Python 3 (ipykernel)",
   "language": "python",
   "name": "python3"
  },
  "language_info": {
   "codemirror_mode": {
    "name": "ipython",
    "version": 3
   },
   "file_extension": ".py",
   "mimetype": "text/x-python",
   "name": "python",
   "nbconvert_exporter": "python",
   "pygments_lexer": "ipython3",
   "version": "3.11.3"
  }
 },
 "nbformat": 4,
 "nbformat_minor": 5
}
