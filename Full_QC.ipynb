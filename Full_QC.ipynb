{
 "cells": [
  {
   "cell_type": "code",
   "execution_count": 1,
   "id": "8e480e3c",
   "metadata": {},
   "outputs": [
    {
     "name": "stderr",
     "output_type": "stream",
     "text": [
      "/root/mambaforge/envs/Xiao/lib/python3.9/site-packages/umap/distances.py:1063: NumbaDeprecationWarning: \u001b[1mThe 'nopython' keyword argument was not supplied to the 'numba.jit' decorator. The implicit default value for this argument is currently False, but it will be changed to True in Numba 0.59.0. See https://numba.readthedocs.io/en/stable/reference/deprecation.html#deprecation-of-object-mode-fall-back-behaviour-when-using-jit for details.\u001b[0m\n",
      "  @numba.jit()\n",
      "/root/mambaforge/envs/Xiao/lib/python3.9/site-packages/umap/distances.py:1071: NumbaDeprecationWarning: \u001b[1mThe 'nopython' keyword argument was not supplied to the 'numba.jit' decorator. The implicit default value for this argument is currently False, but it will be changed to True in Numba 0.59.0. See https://numba.readthedocs.io/en/stable/reference/deprecation.html#deprecation-of-object-mode-fall-back-behaviour-when-using-jit for details.\u001b[0m\n",
      "  @numba.jit()\n",
      "/root/mambaforge/envs/Xiao/lib/python3.9/site-packages/umap/distances.py:1086: NumbaDeprecationWarning: \u001b[1mThe 'nopython' keyword argument was not supplied to the 'numba.jit' decorator. The implicit default value for this argument is currently False, but it will be changed to True in Numba 0.59.0. See https://numba.readthedocs.io/en/stable/reference/deprecation.html#deprecation-of-object-mode-fall-back-behaviour-when-using-jit for details.\u001b[0m\n",
      "  @numba.jit()\n",
      "/root/mambaforge/envs/Xiao/lib/python3.9/site-packages/umap/umap_.py:660: NumbaDeprecationWarning: \u001b[1mThe 'nopython' keyword argument was not supplied to the 'numba.jit' decorator. The implicit default value for this argument is currently False, but it will be changed to True in Numba 0.59.0. See https://numba.readthedocs.io/en/stable/reference/deprecation.html#deprecation-of-object-mode-fall-back-behaviour-when-using-jit for details.\u001b[0m\n",
      "  @numba.jit()\n"
     ]
    }
   ],
   "source": [
    "import numpy as np\n",
    "import scanpy as sc\n",
    "import scipy\n",
    "from scipy.sparse import csr_matrix\n",
    "import scanpy.external as sce\n",
    "import pandas as pd\n",
    "import matplotlib.pyplot as plt\n",
    "from composition_stats import clr\n",
    "import anndata as ad\n",
    "from muon import prot as pt"
   ]
  },
  {
   "cell_type": "code",
   "execution_count": 3,
   "id": "a1db7f11",
   "metadata": {},
   "outputs": [
    {
     "name": "stdout",
     "output_type": "stream",
     "text": [
      "Please cite HashSolo paper:\n",
      "https://www.cell.com/cell-systems/fulltext/S2405-4712(20)30195-2\n",
      "0.32833763387649784\n",
      "Classification\n",
      "Doublet                                          9289\n",
      "TotalSeq-C0251 anti-human Hashtag 1 Antibody     2578\n",
      "TotalSeq-C0255 anti-human Hashtag 5 Antibody     2476\n",
      "TotalSeq-C0259 anti-human Hashtag 9 Antibody     2411\n",
      "TotalSeq-C0253 anti-human Hashtag 3 Antibody     1554\n",
      "TotalSeq-C0257 anti-human Hashtag 7 Antibody     1546\n",
      "TotalSeq-C0254 anti-human Hashtag 4 Antibody     1538\n",
      "TotalSeq-C0260 anti-human Hashtag 10 Antibody    1476\n",
      "TotalSeq-C0252 anti-human Hashtag 2 Antibody     1350\n",
      "TotalSeq-C0256 anti-human Hashtag 6 Antibody     1335\n",
      "TotalSeq-C0258 anti-human Hashtag 8 Antibody      963\n",
      "TotalSeq-C0262 anti-human Hashtag 12 Antibody     946\n",
      "TotalSeq-C0263 anti-human Hashtag 13 Antibody     724\n",
      "Negative                                          105\n",
      "Name: count, dtype: int64\n"
     ]
    },
    {
     "name": "stderr",
     "output_type": "stream",
     "text": [
      "/tmp/ipykernel_2631633/3375346186.py:49: ImplicitModificationWarning: Trying to modify attribute `.obs` of view, initializing view as actual.\n",
      "  adata.obs[\"Thaw\"] = adata.obs['Classification'].map(hashtag_to_thaw)\n"
     ]
    },
    {
     "name": "stdout",
     "output_type": "stream",
     "text": [
      "Please cite HashSolo paper:\n",
      "https://www.cell.com/cell-systems/fulltext/S2405-4712(20)30195-2\n",
      "0.3350906431754022\n",
      "Classification\n",
      "Doublet                                          9852\n",
      "TotalSeq-C0251 anti-human Hashtag 1 Antibody     2651\n",
      "TotalSeq-C0255 anti-human Hashtag 5 Antibody     2591\n",
      "TotalSeq-C0259 anti-human Hashtag 9 Antibody     2425\n",
      "TotalSeq-C0257 anti-human Hashtag 7 Antibody     1665\n",
      "TotalSeq-C0253 anti-human Hashtag 3 Antibody     1605\n",
      "TotalSeq-C0254 anti-human Hashtag 4 Antibody     1568\n",
      "TotalSeq-C0260 anti-human Hashtag 10 Antibody    1450\n",
      "TotalSeq-C0256 anti-human Hashtag 6 Antibody     1415\n",
      "TotalSeq-C0252 anti-human Hashtag 2 Antibody     1350\n",
      "TotalSeq-C0258 anti-human Hashtag 8 Antibody     1067\n",
      "TotalSeq-C0262 anti-human Hashtag 12 Antibody     937\n",
      "TotalSeq-C0263 anti-human Hashtag 13 Antibody     701\n",
      "Negative                                          124\n",
      "Name: count, dtype: int64\n"
     ]
    },
    {
     "name": "stderr",
     "output_type": "stream",
     "text": [
      "/tmp/ipykernel_2631633/3375346186.py:49: ImplicitModificationWarning: Trying to modify attribute `.obs` of view, initializing view as actual.\n",
      "  adata.obs[\"Thaw\"] = adata.obs['Classification'].map(hashtag_to_thaw)\n"
     ]
    },
    {
     "name": "stdout",
     "output_type": "stream",
     "text": [
      "Please cite HashSolo paper:\n",
      "https://www.cell.com/cell-systems/fulltext/S2405-4712(20)30195-2\n",
      "0.3259324443241048\n",
      "Classification\n",
      "Doublet                                          9630\n",
      "TotalSeq-C0255 anti-human Hashtag 5 Antibody     2714\n",
      "TotalSeq-C0251 anti-human Hashtag 1 Antibody     2655\n",
      "TotalSeq-C0259 anti-human Hashtag 9 Antibody     2418\n",
      "TotalSeq-C0257 anti-human Hashtag 7 Antibody     1690\n",
      "TotalSeq-C0260 anti-human Hashtag 10 Antibody    1598\n",
      "TotalSeq-C0254 anti-human Hashtag 4 Antibody     1571\n",
      "TotalSeq-C0253 anti-human Hashtag 3 Antibody     1561\n",
      "TotalSeq-C0256 anti-human Hashtag 6 Antibody     1380\n",
      "TotalSeq-C0252 anti-human Hashtag 2 Antibody     1379\n",
      "TotalSeq-C0262 anti-human Hashtag 12 Antibody    1029\n",
      "TotalSeq-C0258 anti-human Hashtag 8 Antibody     1017\n",
      "TotalSeq-C0263 anti-human Hashtag 13 Antibody     767\n",
      "Negative                                          137\n",
      "Name: count, dtype: int64\n"
     ]
    },
    {
     "name": "stderr",
     "output_type": "stream",
     "text": [
      "/tmp/ipykernel_2631633/3375346186.py:49: ImplicitModificationWarning: Trying to modify attribute `.obs` of view, initializing view as actual.\n",
      "  adata.obs[\"Thaw\"] = adata.obs['Classification'].map(hashtag_to_thaw)\n"
     ]
    },
    {
     "name": "stdout",
     "output_type": "stream",
     "text": [
      "AnnData object with n_obs × n_vars = 18897 × 36750\n",
      "    obs: 'TotalSeq-C0251 anti-human Hashtag 1 Antibody', 'TotalSeq-C0252 anti-human Hashtag 2 Antibody', 'TotalSeq-C0253 anti-human Hashtag 3 Antibody', 'TotalSeq-C0254 anti-human Hashtag 4 Antibody', 'TotalSeq-C0255 anti-human Hashtag 5 Antibody', 'TotalSeq-C0256 anti-human Hashtag 6 Antibody', 'TotalSeq-C0257 anti-human Hashtag 7 Antibody', 'TotalSeq-C0258 anti-human Hashtag 8 Antibody', 'TotalSeq-C0259 anti-human Hashtag 9 Antibody', 'TotalSeq-C0260 anti-human Hashtag 10 Antibody', 'TotalSeq-C0262 anti-human Hashtag 12 Antibody', 'TotalSeq-C0263 anti-human Hashtag 13 Antibody', 'most_likely_hypothesis', 'cluster_feature', 'negative_hypothesis_probability', 'singlet_hypothesis_probability', 'doublet_hypothesis_probability', 'Classification', 'Thaw', 'batch'\n",
      "    var: 'gene_ids', 'feature_types'\n",
      "AnnData object with n_obs × n_vars = 19425 × 36750\n",
      "    obs: 'TotalSeq-C0251 anti-human Hashtag 1 Antibody', 'TotalSeq-C0252 anti-human Hashtag 2 Antibody', 'TotalSeq-C0253 anti-human Hashtag 3 Antibody', 'TotalSeq-C0254 anti-human Hashtag 4 Antibody', 'TotalSeq-C0255 anti-human Hashtag 5 Antibody', 'TotalSeq-C0256 anti-human Hashtag 6 Antibody', 'TotalSeq-C0257 anti-human Hashtag 7 Antibody', 'TotalSeq-C0258 anti-human Hashtag 8 Antibody', 'TotalSeq-C0259 anti-human Hashtag 9 Antibody', 'TotalSeq-C0260 anti-human Hashtag 10 Antibody', 'TotalSeq-C0262 anti-human Hashtag 12 Antibody', 'TotalSeq-C0263 anti-human Hashtag 13 Antibody', 'most_likely_hypothesis', 'cluster_feature', 'negative_hypothesis_probability', 'singlet_hypothesis_probability', 'doublet_hypothesis_probability', 'Classification', 'Thaw', 'batch'\n",
      "    var: 'gene_ids', 'feature_types'\n",
      "AnnData object with n_obs × n_vars = 19779 × 36750\n",
      "    obs: 'TotalSeq-C0251 anti-human Hashtag 1 Antibody', 'TotalSeq-C0252 anti-human Hashtag 2 Antibody', 'TotalSeq-C0253 anti-human Hashtag 3 Antibody', 'TotalSeq-C0254 anti-human Hashtag 4 Antibody', 'TotalSeq-C0255 anti-human Hashtag 5 Antibody', 'TotalSeq-C0256 anti-human Hashtag 6 Antibody', 'TotalSeq-C0257 anti-human Hashtag 7 Antibody', 'TotalSeq-C0258 anti-human Hashtag 8 Antibody', 'TotalSeq-C0259 anti-human Hashtag 9 Antibody', 'TotalSeq-C0260 anti-human Hashtag 10 Antibody', 'TotalSeq-C0262 anti-human Hashtag 12 Antibody', 'TotalSeq-C0263 anti-human Hashtag 13 Antibody', 'most_likely_hypothesis', 'cluster_feature', 'negative_hypothesis_probability', 'singlet_hypothesis_probability', 'doublet_hypothesis_probability', 'Classification', 'Thaw', 'batch'\n",
      "    var: 'gene_ids', 'feature_types'\n"
     ]
    },
    {
     "name": "stderr",
     "output_type": "stream",
     "text": [
      "/root/mambaforge/envs/Xiao/lib/python3.9/site-packages/anndata/_core/anndata.py:1830: UserWarning: Observation names are not unique. To make them unique, call `.obs_names_make_unique`.\n",
      "  utils.warn_names_duplicates(\"obs\")\n"
     ]
    },
    {
     "data": {
      "text/plain": [
       "AnnData object with n_obs × n_vars = 58101 × 36750\n",
       "    obs: 'TotalSeq-C0251 anti-human Hashtag 1 Antibody', 'TotalSeq-C0252 anti-human Hashtag 2 Antibody', 'TotalSeq-C0253 anti-human Hashtag 3 Antibody', 'TotalSeq-C0254 anti-human Hashtag 4 Antibody', 'TotalSeq-C0255 anti-human Hashtag 5 Antibody', 'TotalSeq-C0256 anti-human Hashtag 6 Antibody', 'TotalSeq-C0257 anti-human Hashtag 7 Antibody', 'TotalSeq-C0258 anti-human Hashtag 8 Antibody', 'TotalSeq-C0259 anti-human Hashtag 9 Antibody', 'TotalSeq-C0260 anti-human Hashtag 10 Antibody', 'TotalSeq-C0262 anti-human Hashtag 12 Antibody', 'TotalSeq-C0263 anti-human Hashtag 13 Antibody', 'most_likely_hypothesis', 'cluster_feature', 'negative_hypothesis_probability', 'singlet_hypothesis_probability', 'doublet_hypothesis_probability', 'Classification', 'Thaw', 'batch'\n",
       "    var: 'gene_ids', 'feature_types'"
      ]
     },
     "execution_count": 3,
     "metadata": {},
     "output_type": "execute_result"
    }
   ],
   "source": [
    "from anndata import AnnData\n",
    "\n",
    "hashtag_to_thaw = {\n",
    "    \"TotalSeq-C0251 anti-human Hashtag 1 Antibody\" : \"M-A3-Unsti\",\n",
    "    \"TotalSeq-C0255 anti-human Hashtag 5 Antibody\" : \"U-A3-Unsti\", \n",
    "    \"TotalSeq-C0259 anti-human Hashtag 9 Antibody\" : \"Z-A3-Unsti\",  \n",
    "    \"TotalSeq-C0253 anti-human Hashtag 3 Antibody\" : \"M-A3-6th\",    \n",
    "    \"TotalSeq-C0254 anti-human Hashtag 4 Antibody\" : \"M-A3-9th\",  \n",
    "    \"TotalSeq-C0257 anti-human Hashtag 7 Antibody\" : \"U-A3-7th\",\n",
    "    \"TotalSeq-C0260 anti-human Hashtag 10 Antibody\": \"Z-A3-1st\",\n",
    "    \"TotalSeq-C0252 anti-human Hashtag 2 Antibody\" : \"M-A3-3rd\",\n",
    "    \"TotalSeq-C0256 anti-human Hashtag 6 Antibody\" : \"U-A3-4th\",\n",
    "    \"TotalSeq-C0258 anti-human Hashtag 8 Antibody\" : \"U-A3-10th\",\n",
    "    \"TotalSeq-C0262 anti-human Hashtag 12 Antibody\": \"Z-A3-5th\",\n",
    "    \"TotalSeq-C0263 anti-human Hashtag 13 Antibody\": \"Z-A3-9th\"\n",
    "}\n",
    "\n",
    "def over_input(dataframe, hashtag_names): #Hashtag names must be a list\n",
    "    df_hash = pd.DataFrame(columns=dataframe.var_names, index=dataframe.obs.index)\n",
    "    res = np.array(dataframe.X.todense()) # this step is very wasteful\n",
    "    # it makes no difference, but hashsolo says to do all QC before running it, move things up \n",
    "    clr(np.array(dataframe.X.todense()) + 1)#clr transform the hto, doesn't this transform everything? Yes!\n",
    "    df_hash.iloc[:,:] = res\n",
    "    dataframe.obs = df_hash.loc[:, hashtag_names]\n",
    "    for i in hashtag_names: \n",
    "        dataframe.obs[i]=dataframe.obs[i].astype(float).astype(np.int64)\n",
    "    return dataframe\n",
    "\n",
    "file_list = [\n",
    "     sc.read_h5ad('h5ads/lib_1.h5ad'), \n",
    "     sc.read_h5ad('h5ads/lib_2.h5ad'), \n",
    "     sc.read_h5ad('h5ads/lib_3.h5ad')\n",
    "]\n",
    "\n",
    "labels = 28291*[\"lib1\"] +  29401* [\"lib2\"]+ 29546*[\"lib3\"]\n",
    "new_l = []\n",
    "for index in range(len(file_list)):\n",
    "    adata = file_list[index]\n",
    "    # prep for hashsolo -- only with protein\n",
    "    adata = over_input(adata, adata.var_names[-12:]) # this is always slow\n",
    "    # get hashsolo classsifications for each sample\n",
    "    sce.pp.hashsolo(adata, list(adata.obs.columns)) \n",
    "    doublet_rate = adata.obs.Classification.value_counts()[\"Doublet\"] / len(adata.obs.index)\n",
    "    print(doublet_rate)\n",
    "    print(adata.obs.Classification.value_counts())\n",
    "    # remove doublets and negatives\n",
    "    adata = adata[~adata.obs['Classification'].isin(['Doublet', 'Negative'])]\n",
    "    # apply thaw map\n",
    "    adata.obs[\"Thaw\"] = adata.obs['Classification'].map(hashtag_to_thaw)\n",
    "    adata.obs[\"batch\"] = \"lib_\" + str(index)\n",
    "    new_l.append(adata)\n",
    "    \n",
    "[print(file) for file in new_l]\n",
    "pbmc_concat = ad.concat(new_l, merge=\"same\")\n",
    "#pbmc_concat.obs[\"batch\"] = labels\n",
    "pbmc_concat"
   ]
  },
  {
   "cell_type": "code",
   "execution_count": 20,
   "id": "b0b758bd",
   "metadata": {},
   "outputs": [
    {
     "data": {
      "text/plain": [
       "AnnData object with n_obs × n_vars = 58101 × 36750\n",
       "    obs: 'TotalSeq-C0251 anti-human Hashtag 1 Antibody', 'TotalSeq-C0252 anti-human Hashtag 2 Antibody', 'TotalSeq-C0253 anti-human Hashtag 3 Antibody', 'TotalSeq-C0254 anti-human Hashtag 4 Antibody', 'TotalSeq-C0255 anti-human Hashtag 5 Antibody', 'TotalSeq-C0256 anti-human Hashtag 6 Antibody', 'TotalSeq-C0257 anti-human Hashtag 7 Antibody', 'TotalSeq-C0258 anti-human Hashtag 8 Antibody', 'TotalSeq-C0259 anti-human Hashtag 9 Antibody', 'TotalSeq-C0260 anti-human Hashtag 10 Antibody', 'TotalSeq-C0262 anti-human Hashtag 12 Antibody', 'TotalSeq-C0263 anti-human Hashtag 13 Antibody', 'most_likely_hypothesis', 'cluster_feature', 'negative_hypothesis_probability', 'singlet_hypothesis_probability', 'doublet_hypothesis_probability', 'Classification', 'Thaw', 'batch'\n",
       "    var: 'gene_ids', 'feature_types'"
      ]
     },
     "execution_count": 20,
     "metadata": {},
     "output_type": "execute_result"
    }
   ],
   "source": [
    "pbmc_concat"
   ]
  },
  {
   "cell_type": "code",
   "execution_count": 21,
   "id": "76117db5",
   "metadata": {},
   "outputs": [],
   "source": [
    "rna = pbmc_concat[:, pbmc_concat.var[:-149].index].copy() # make sure they are no longer connected\n",
    "protein = pbmc_concat[:, pbmc_concat.var[-149:].index].copy()"
   ]
  },
  {
   "cell_type": "code",
   "execution_count": 22,
   "id": "4819973a",
   "metadata": {},
   "outputs": [
    {
     "data": {
      "text/plain": [
       "(AnnData object with n_obs × n_vars = 58101 × 36601\n",
       "     obs: 'TotalSeq-C0251 anti-human Hashtag 1 Antibody', 'TotalSeq-C0252 anti-human Hashtag 2 Antibody', 'TotalSeq-C0253 anti-human Hashtag 3 Antibody', 'TotalSeq-C0254 anti-human Hashtag 4 Antibody', 'TotalSeq-C0255 anti-human Hashtag 5 Antibody', 'TotalSeq-C0256 anti-human Hashtag 6 Antibody', 'TotalSeq-C0257 anti-human Hashtag 7 Antibody', 'TotalSeq-C0258 anti-human Hashtag 8 Antibody', 'TotalSeq-C0259 anti-human Hashtag 9 Antibody', 'TotalSeq-C0260 anti-human Hashtag 10 Antibody', 'TotalSeq-C0262 anti-human Hashtag 12 Antibody', 'TotalSeq-C0263 anti-human Hashtag 13 Antibody', 'most_likely_hypothesis', 'cluster_feature', 'negative_hypothesis_probability', 'singlet_hypothesis_probability', 'doublet_hypothesis_probability', 'Classification', 'Thaw', 'batch'\n",
       "     var: 'gene_ids', 'feature_types',\n",
       " AnnData object with n_obs × n_vars = 58101 × 149\n",
       "     obs: 'TotalSeq-C0251 anti-human Hashtag 1 Antibody', 'TotalSeq-C0252 anti-human Hashtag 2 Antibody', 'TotalSeq-C0253 anti-human Hashtag 3 Antibody', 'TotalSeq-C0254 anti-human Hashtag 4 Antibody', 'TotalSeq-C0255 anti-human Hashtag 5 Antibody', 'TotalSeq-C0256 anti-human Hashtag 6 Antibody', 'TotalSeq-C0257 anti-human Hashtag 7 Antibody', 'TotalSeq-C0258 anti-human Hashtag 8 Antibody', 'TotalSeq-C0259 anti-human Hashtag 9 Antibody', 'TotalSeq-C0260 anti-human Hashtag 10 Antibody', 'TotalSeq-C0262 anti-human Hashtag 12 Antibody', 'TotalSeq-C0263 anti-human Hashtag 13 Antibody', 'most_likely_hypothesis', 'cluster_feature', 'negative_hypothesis_probability', 'singlet_hypothesis_probability', 'doublet_hypothesis_probability', 'Classification', 'Thaw', 'batch'\n",
       "     var: 'gene_ids', 'feature_types')"
      ]
     },
     "execution_count": 22,
     "metadata": {},
     "output_type": "execute_result"
    }
   ],
   "source": [
    "rna, protein"
   ]
  },
  {
   "cell_type": "code",
   "execution_count": 24,
   "id": "75316dcc",
   "metadata": {},
   "outputs": [
    {
     "name": "stderr",
     "output_type": "stream",
     "text": [
      "/root/mambaforge/envs/Xiao/lib/python3.9/site-packages/scanpy/preprocessing/_normalization.py:170: UserWarning: Received a view of an AnnData. Making a copy.\n",
      "  view_to_actual(adata)\n",
      "2023-06-22 15:58:50,153 - harmonypy - INFO - Computing initial centroids with sklearn.KMeans...\n",
      "2023-06-22 15:59:40,440 - harmonypy - INFO - sklearn.KMeans initialization complete.\n",
      "2023-06-22 15:59:40,723 - harmonypy - INFO - Iteration 1 of 10\n",
      "2023-06-22 15:59:57,104 - harmonypy - INFO - Iteration 2 of 10\n",
      "2023-06-22 16:00:15,884 - harmonypy - INFO - Iteration 3 of 10\n",
      "2023-06-22 16:00:34,822 - harmonypy - INFO - Iteration 4 of 10\n",
      "2023-06-22 16:00:54,339 - harmonypy - INFO - Iteration 5 of 10\n",
      "2023-06-22 16:01:12,105 - harmonypy - INFO - Iteration 6 of 10\n",
      "2023-06-22 16:01:29,098 - harmonypy - INFO - Iteration 7 of 10\n",
      "2023-06-22 16:01:34,859 - harmonypy - INFO - Converged after 7 iterations\n",
      "/root/mambaforge/envs/Xiao/lib/python3.9/site-packages/muon/_prot/preproc.py:219: UserWarning: adata.X is sparse but not in CSC format. Converting to CSC.\n",
      "  warn(\"adata.X is sparse but not in CSC format. Converting to CSC.\")\n",
      "2023-06-22 16:01:45,116 - harmonypy - INFO - Computing initial centroids with sklearn.KMeans...\n",
      "2023-06-22 16:02:14,998 - harmonypy - INFO - sklearn.KMeans initialization complete.\n",
      "2023-06-22 16:02:15,331 - harmonypy - INFO - Iteration 1 of 10\n",
      "2023-06-22 16:02:38,382 - harmonypy - INFO - Iteration 2 of 10\n",
      "2023-06-22 16:03:01,831 - harmonypy - INFO - Converged after 2 iterations\n"
     ]
    }
   ],
   "source": [
    "rna_prot = [rna, protein]\n",
    "# [sc.read_h5ad(\"h5ads/full_rna_after_qc.h5ad\"),  \n",
    "#             sc.read_h5ad(\"h5ads/full_protein_after_qc.h5ad\")]\n",
    "\n",
    "for i in range(len(rna_prot)):\n",
    "    # add batch labels\n",
    "    rna_prot[i].obs_names_make_unique()\n",
    "    # elim all 0 zero count features\n",
    "    sc.pp.filter_genes(rna_prot[i], min_counts=1)\n",
    "    # protein qc\n",
    "    if i == 1:\n",
    "        # normalization described in cite seq paper\n",
    "        pt.pp.clr(rna_prot[i])\n",
    "    # rna qc\n",
    "    else:\n",
    "        # remove mitochondrial genes -- normal in scRNAseq \n",
    "        rna_prot[i].var[\"mt\"] = rna_prot[i].var_names.str.startswith(\"MT-\")\n",
    "        # ribosomal genes\n",
    "        rna_prot[i].var['ribo'] = rna_prot[i].var_names.str.startswith((\"RPS\",\"RPL\"))\n",
    "        # hemoglobin genes.\n",
    "        rna_prot[i].var['hb'] = rna_prot[i].var_names.str.contains((\"^HB[^(P)]\"))\n",
    "        sc.pp.calculate_qc_metrics(rna_prot[i], qc_vars=['mt','ribo','hb'], \n",
    "                                   percent_top=None, log1p=False, inplace=True)\n",
    "        rna_prot[i].layers[\"counts\"] = rna_prot[i].X.copy()\n",
    "        # the actual filtering is likely the problem\n",
    "        # filter for percent mito\n",
    "        rna_prot[i] = rna_prot[i][rna_prot[i].obs['pct_counts_mt'] < 20, :]\n",
    "        # filter for percent ribo > 0.05\n",
    "        rna_prot[i] = rna_prot[i][rna_prot[i].obs['pct_counts_ribo'] > 5, :]\n",
    "        # still need to apply normalization\n",
    "        sc.pp.normalize_total(rna_prot[i], target_sum=1e4)\n",
    "        \n",
    "    # either modality need last normalization step\n",
    "    sc.pp.log1p(rna_prot[i])\n",
    "    # basic dim reduction for each modality\n",
    "    sc.pp.pca(rna_prot[i])\n",
    "    # batch correction\n",
    "    sce.pp.harmony_integrate(rna_prot[i], 'batch') #\n",
    "    # needs to be done for wnn step anyway\n",
    "    #sc.pp.neighbors(rna_prot[i])"
   ]
  },
  {
   "cell_type": "code",
   "execution_count": 25,
   "id": "e6e0dc83",
   "metadata": {},
   "outputs": [
    {
     "data": {
      "text/plain": [
       "(AnnData object with n_obs × n_vars = 47024 × 28608\n",
       "     obs: 'TotalSeq-C0251 anti-human Hashtag 1 Antibody', 'TotalSeq-C0252 anti-human Hashtag 2 Antibody', 'TotalSeq-C0253 anti-human Hashtag 3 Antibody', 'TotalSeq-C0254 anti-human Hashtag 4 Antibody', 'TotalSeq-C0255 anti-human Hashtag 5 Antibody', 'TotalSeq-C0256 anti-human Hashtag 6 Antibody', 'TotalSeq-C0257 anti-human Hashtag 7 Antibody', 'TotalSeq-C0258 anti-human Hashtag 8 Antibody', 'TotalSeq-C0259 anti-human Hashtag 9 Antibody', 'TotalSeq-C0260 anti-human Hashtag 10 Antibody', 'TotalSeq-C0262 anti-human Hashtag 12 Antibody', 'TotalSeq-C0263 anti-human Hashtag 13 Antibody', 'most_likely_hypothesis', 'cluster_feature', 'negative_hypothesis_probability', 'singlet_hypothesis_probability', 'doublet_hypothesis_probability', 'Classification', 'Thaw', 'batch', 'n_genes_by_counts', 'total_counts', 'total_counts_mt', 'pct_counts_mt', 'total_counts_ribo', 'pct_counts_ribo', 'total_counts_hb', 'pct_counts_hb'\n",
       "     var: 'gene_ids', 'feature_types', 'n_counts', 'mt', 'ribo', 'hb', 'n_cells_by_counts', 'mean_counts', 'pct_dropout_by_counts', 'total_counts'\n",
       "     uns: 'log1p', 'pca', 'neighbors'\n",
       "     obsm: 'X_pca', 'X_pca_harmony'\n",
       "     varm: 'PCs'\n",
       "     layers: 'counts'\n",
       "     obsp: 'distances', 'connectivities',\n",
       " AnnData object with n_obs × n_vars = 58101 × 149\n",
       "     obs: 'TotalSeq-C0251 anti-human Hashtag 1 Antibody', 'TotalSeq-C0252 anti-human Hashtag 2 Antibody', 'TotalSeq-C0253 anti-human Hashtag 3 Antibody', 'TotalSeq-C0254 anti-human Hashtag 4 Antibody', 'TotalSeq-C0255 anti-human Hashtag 5 Antibody', 'TotalSeq-C0256 anti-human Hashtag 6 Antibody', 'TotalSeq-C0257 anti-human Hashtag 7 Antibody', 'TotalSeq-C0258 anti-human Hashtag 8 Antibody', 'TotalSeq-C0259 anti-human Hashtag 9 Antibody', 'TotalSeq-C0260 anti-human Hashtag 10 Antibody', 'TotalSeq-C0262 anti-human Hashtag 12 Antibody', 'TotalSeq-C0263 anti-human Hashtag 13 Antibody', 'most_likely_hypothesis', 'cluster_feature', 'negative_hypothesis_probability', 'singlet_hypothesis_probability', 'doublet_hypothesis_probability', 'Classification', 'Thaw', 'batch'\n",
       "     var: 'gene_ids', 'feature_types', 'n_counts'\n",
       "     uns: 'log1p', 'pca', 'neighbors'\n",
       "     obsm: 'X_pca', 'X_pca_harmony'\n",
       "     varm: 'PCs'\n",
       "     obsp: 'distances', 'connectivities')"
      ]
     },
     "execution_count": 25,
     "metadata": {},
     "output_type": "execute_result"
    }
   ],
   "source": [
    "rna_prot[0], rna_prot[1]"
   ]
  },
  {
   "cell_type": "code",
   "execution_count": 33,
   "id": "32de7899",
   "metadata": {},
   "outputs": [],
   "source": [
    "subset_protein = rna_prot[1][rna_prot[0].obs.index, :]\n",
    "sc.pp.neighbors(subset_protein)"
   ]
  },
  {
   "cell_type": "code",
   "execution_count": 34,
   "id": "56e87a5f",
   "metadata": {},
   "outputs": [],
   "source": [
    "rna_prot[0].write_h5ad('h5ads/correct_rna.h5ad')\n",
    "subset_protein.write_h5ad('h5ads/correct_protein.h5ad')"
   ]
  },
  {
   "cell_type": "code",
   "execution_count": null,
   "id": "fe56551d",
   "metadata": {},
   "outputs": [],
   "source": []
  }
 ],
 "metadata": {
  "kernelspec": {
   "display_name": "Python 3 (ipykernel)",
   "language": "python",
   "name": "python3"
  },
  "language_info": {
   "codemirror_mode": {
    "name": "ipython",
    "version": 3
   },
   "file_extension": ".py",
   "mimetype": "text/x-python",
   "name": "python",
   "nbconvert_exporter": "python",
   "pygments_lexer": "ipython3",
   "version": "3.9.16"
  }
 },
 "nbformat": 4,
 "nbformat_minor": 5
}
